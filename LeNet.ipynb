{
 "cells": [
  {
   "cell_type": "code",
   "execution_count": null,
   "metadata": {},
   "outputs": [],
   "source": [
    "from tensorflow.python.client import device_lib\n",
    "device_lib.list_local_devices()"
   ]
  },
  {
   "cell_type": "code",
   "execution_count": null,
   "metadata": {},
   "outputs": [],
   "source": [
    "import numpy as np\n",
    "import tensorflow as tf\n",
    "import matplotlib.pyplot as plt\n",
    "import time\n",
    "import itertools as it\n",
    "import os.path as osp\n",
    "from tensorflow.examples.tutorials.mnist import input_data\n",
    "from sklearn.utils import shuffle\n",
    "import time"
   ]
  },
  {
   "cell_type": "markdown",
   "metadata": {},
   "source": [
    "## Load the MNIST dataset"
   ]
  },
  {
   "cell_type": "code",
   "execution_count": null,
   "metadata": {},
   "outputs": [],
   "source": [
    "mnist = input_data.read_data_sets(\"MNIST_data/\", reshape=False)\n",
    "X_train, y_train           = mnist.train.images, mnist.train.labels\n",
    "X_validation, y_validation = mnist.validation.images, mnist.validation.labels\n",
    "X_test, y_test             = mnist.test.images, mnist.test.labels\n",
    "\n",
    "assert(len(X_train) == len(y_train))\n",
    "assert(len(X_validation) == len(y_validation))\n",
    "assert(len(X_test) == len(y_test))\n",
    "\n",
    "print()\n",
    "print(\"Image Shape: {}\".format(X_train[0].shape))\n",
    "print()\n",
    "print(\"Training Set:   {} samples\".format(len(X_train)))\n",
    "print(\"Validation Set: {} samples\".format(len(X_validation)))\n",
    "print(\"Test Set:       {} samples\".format(len(X_test)))\n",
    "X_train      = np.pad(X_train, ((0,0),(2,2),(2,2),(0,0)), 'constant')\n",
    "X_validation = np.pad(X_validation, ((0,0),(2,2),(2,2),(0,0)), 'constant')\n",
    "X_test       = np.pad(X_test, ((0,0),(2,2),(2,2),(0,0)), 'constant')\n",
    "    \n",
    "print(\"Updated Image Shape: {}\".format(X_train[0].shape))\n",
    "X_train, y_train = shuffle(X_train, y_train)\n",
    "EPOCHS = 10\n",
    "BATCH_SIZE = 128"
   ]
  },
  {
   "cell_type": "markdown",
   "metadata": {},
   "source": [
    "## define LeNet , Notice that at the end of each layer we deinf a name for the layer (e.g. name=\"conv1\")"
   ]
  },
  {
   "cell_type": "code",
   "execution_count": null,
   "metadata": {},
   "outputs": [],
   "source": [
    "from tensorflow.contrib.layers import flatten\n",
    "\n",
    "def LeNet(x):    \n",
    "    # Hyperparameters\n",
    "    mu = 0\n",
    "    sigma = 0.1\n",
    "    layer_depth = {\n",
    "        'layer_1' : 6,\n",
    "        'layer_2' : 16,\n",
    "        'layer_3' : 120,\n",
    "        'layer_f1' : 84\n",
    "    }\n",
    "\n",
    "    with tf.name_scope('convo'):\n",
    "        # TODO: Layer 1: Convolutional. Input = 32x32x1. Output = 28x28x6.\n",
    "        conv1_w = tf.Variable(tf.truncated_normal(shape = [5,5,1,6],mean = mu, stddev = sigma))\n",
    "        conv1_b = tf.Variable(tf.zeros(6))\n",
    "        conv1 = tf.nn.conv2d(x,conv1_w, strides = [1,1,1,1], padding = 'VALID') + conv1_b \n",
    "        # TODO: Activation.\n",
    "        conv1 = tf.nn.relu(conv1)\n",
    "\n",
    "        # TODO: Pooling. Input = 28x28x6. Output = 14x14x6.\n",
    "        pool_1 = tf.nn.max_pool(conv1,ksize = [1,2,2,1], strides = [1,2,2,1], padding = 'VALID',name=\"conv1\")\n",
    "\n",
    "        # TODO: Layer 2: Convolutional. Output = 10x10x16.\n",
    "        conv2_w = tf.Variable(tf.truncated_normal(shape = [5,5,6,16], mean = mu, stddev = sigma))\n",
    "        conv2_b = tf.Variable(tf.zeros(16))\n",
    "        conv2 = tf.nn.conv2d(pool_1, conv2_w, strides = [1,1,1,1], padding = 'VALID') + conv2_b\n",
    "        # TODO: Activation.\n",
    "        conv2 = tf.nn.relu(conv2)\n",
    "\n",
    "        # TODO: Pooling. Input = 10x10x16. Output = 5x5x16.\n",
    "        pool_2 = tf.nn.max_pool(conv2, ksize = [1,2,2,1], strides = [1,2,2,1], padding = 'VALID',name=\"conv2\") \n",
    "    with tf.name_scope('fully_connected'):\n",
    "        # TODO: Flatten. Input = 5x5x16. Output = 400.\n",
    "        fc1 = flatten(pool_2)\n",
    "\n",
    "        # TODO: Layer 3: Fully Connected. Input = 400. Output = 120.\n",
    "        fc1_w = tf.Variable(tf.truncated_normal(shape = (400,120), mean = mu, stddev = sigma))\n",
    "        fc1_b = tf.Variable(tf.zeros(120))\n",
    "        fc1 = tf.matmul(fc1,fc1_w) + fc1_b\n",
    "\n",
    "        # TODO: Activation.\n",
    "        fc1 = tf.nn.relu(fc1,name=\"fc1\")\n",
    "\n",
    "        # TODO: Layer 4: Fully Connected. Input = 120. Output = 84.\n",
    "        fc2_w = tf.Variable(tf.truncated_normal(shape = (120,84), mean = mu, stddev = sigma))\n",
    "        fc2_b = tf.Variable(tf.zeros(84))\n",
    "        fc2 = tf.matmul(fc1,fc2_w) + fc2_b\n",
    "        # TODO: Activation.\n",
    "        fc2 = tf.nn.relu(fc2,name=\"fc2\")\n",
    "\n",
    "        # TODO: Layer 5: Fully Connected. Input = 84. Output = 10.\n",
    "        fc3_w = tf.Variable(tf.truncated_normal(shape = (84,10), mean = mu , stddev = sigma))\n",
    "        fc3_b = tf.Variable(tf.zeros(10))\n",
    "        logits = tf.matmul(fc2, fc3_w,name=\"fc3\") + fc3_b\n",
    "    return logits"
   ]
  },
  {
   "cell_type": "code",
   "execution_count": null,
   "metadata": {},
   "outputs": [],
   "source": [
    "graph = tf.Graph()\n",
    "with graph.as_default():\n",
    "    with tf.name_scope('inputs'):\n",
    "        x = tf.placeholder(tf.float32, (None, 32, 32, 1), name=\"images\")\n",
    "        y = tf.placeholder(tf.int32, (None), name=\"labels\")\n",
    "        one_hot_y = tf.one_hot(y, 10)  \n",
    "    rate = 0.001\n",
    "    logits = LeNet(x)\n",
    "    cross_entropy = tf.nn.softmax_cross_entropy_with_logits(logits=logits, labels=one_hot_y)\n",
    "    loss_operation = tf.reduce_mean(cross_entropy)\n",
    "    optimizer = tf.train.AdamOptimizer(learning_rate = rate)\n",
    "    training_operation = optimizer.minimize(loss_operation)\n",
    "    correct_prediction = tf.equal(tf.argmax(logits, 1), tf.argmax(one_hot_y, 1))\n",
    "    accuracy_operation = tf.reduce_mean(tf.cast(correct_prediction, tf.float32))\n",
    "    saver = tf.train.Saver()"
   ]
  },
  {
   "cell_type": "code",
   "execution_count": null,
   "metadata": {},
   "outputs": [],
   "source": [
    "def evaluate(X_data, y_data):\n",
    "    num_examples = len(X_data)\n",
    "    total_accuracy = 0\n",
    "    sess = tf.get_default_session()\n",
    "    for offset in range(0, num_examples, BATCH_SIZE):\n",
    "        batch_x, batch_y = X_data[offset:offset+BATCH_SIZE], y_data[offset:offset+BATCH_SIZE]\n",
    "        accuracy = sess.run(accuracy_operation, feed_dict={x: batch_x, y: batch_y})\n",
    "        total_accuracy += (accuracy * len(batch_x))\n",
    "    return total_accuracy / num_examples"
   ]
  },
  {
   "cell_type": "markdown",
   "metadata": {},
   "source": [
    "## Please notice the accuracy achieved by running the orginal LeNet ( it takes 4 minuties to train 10 epoches)"
   ]
  },
  {
   "cell_type": "code",
   "execution_count": null,
   "metadata": {},
   "outputs": [],
   "source": [
    "config = tf.ConfigProto(\n",
    "        device_count = {'CPU': 0}\n",
    "    )\n",
    "start = time.time()\n",
    "\n",
    "with tf.Session(graph=graph) as sess:\n",
    "    sess.run(tf.global_variables_initializer())\n",
    "    num_examples = len(X_train)\n",
    "    \n",
    "    print(\"Training...\")\n",
    "    print()\n",
    "    for i in range(EPOCHS):\n",
    "        X_train, y_train = shuffle(X_train, y_train)\n",
    "        for offset in range(0, num_examples, BATCH_SIZE):\n",
    "            end = offset + BATCH_SIZE\n",
    "            batch_x, batch_y = X_train[offset:end], y_train[offset:end]\n",
    "            sess.run(training_operation, feed_dict={x: batch_x, y: batch_y})\n",
    "            \n",
    "        validation_accuracy = evaluate(X_validation, y_validation)\n",
    "        print(\"EPOCH {} ...\".format(i+1))\n",
    "        print(\"Validation Accuracy = {:.3f}\".format(validation_accuracy))\n",
    "        print()\n",
    "        \n",
    "    saver.save(sess, './lenet')\n",
    "    print(\"Model saved\")\n",
    "#your code here    \n",
    "print('runtime= ',(time.time() - start)/60)"
   ]
  },
  {
   "cell_type": "markdown",
   "metadata": {},
   "source": [
    "## Try to figuer out the changes happen to the orginal LeNet"
   ]
  },
  {
   "cell_type": "code",
   "execution_count": null,
   "metadata": {},
   "outputs": [],
   "source": [
    "old_lenet_graph = tf.Graph()\n",
    "with old_lenet_graph.as_default():\n",
    "    # importing the graph will populate new_alex_graph\n",
    "    saver = tf.train.import_meta_graph(\"./lenet.meta\")"
   ]
  },
  {
   "cell_type": "markdown",
   "metadata": {},
   "source": [
    "## check the previous configuration of LeNet"
   ]
  },
  {
   "cell_type": "code",
   "execution_count": null,
   "metadata": {},
   "outputs": [],
   "source": [
    "print(old_lenet_graph.get_tensor_by_name(\"convo/conv1:0\"))\n",
    "print(old_lenet_graph.get_tensor_by_name(\"convo/conv2:0\"))\n",
    "print(old_lenet_graph.get_tensor_by_name(\"fully_connected/fc1:0\"))\n",
    "print(old_lenet_graph.get_tensor_by_name(\"fully_connected/fc2:0\"))\n",
    "print(old_lenet_graph.get_tensor_by_name(\"fully_connected/fc3:0\"))"
   ]
  },
  {
   "cell_type": "markdown",
   "metadata": {},
   "source": [
    "# Exceries\n",
    "## try to understand and explain the next class and what it do ti the orginal LeNet"
   ]
  },
  {
   "cell_type": "code",
   "execution_count": null,
   "metadata": {},
   "outputs": [],
   "source": [
    "class TransferedLeNet:\n",
    "    def __init__(s, init_graph, num_tgt_classes):\n",
    "        with init_graph.as_default():\n",
    "            with tf.name_scope('inputs'):\n",
    "                # have input placeholder from original graph\n",
    "                s.labels = tf.placeholder(tf.int32, shape=[None], name='labels')\n",
    "\n",
    "            with tf.name_scope('hyperparams'):\n",
    "                s.learning_rate = tf.placeholder(tf.float32, name='learning_rate')                \n",
    "            \n",
    "            s.one_hot_labels = tf.one_hot(s.labels, num_tgt_classes) # , dtype=tf.float32) \n",
    "            \n",
    "            #\n",
    "            # we're going to rewire the outputs from the old conv2 to the new layer\n",
    "            #\n",
    "            orig_convo2    = old_lenet_graph.get_tensor_by_name(\"convo/conv2:0\")\n",
    "            with tf.name_scope('new_convo_layer'):\n",
    "                # use convo instead of 3 fully connected layers\n",
    "                conv3_w = tf.Variable(tf.truncated_normal(shape = [5,5,16,num_tgt_classes], mean = 0, stddev = 0.1))\n",
    "                conv3_b = tf.Variable(tf.zeros(num_tgt_classes))\n",
    "                convo3 =tf.nn.conv2d(orig_convo2, conv3_w, strides = [1,1,1,1], padding = 'VALID') + conv3_b\n",
    "                s.logits = tf.squeeze(convo3)\n",
    "            \n",
    "            with tf.name_scope('loss'):\n",
    "                smce = tf.nn.softmax_cross_entropy_with_logits\n",
    "                s.loss = tf.reduce_mean(smce(logits=s.logits, labels=s.one_hot_labels),\n",
    "                                             name=\"loss\")\n",
    "\n",
    "            with tf.name_scope('global_step'):\n",
    "                global_step = tf.Variable(0, trainable=False, name='global_step')\n",
    "                s.inc_step = tf.assign_add(global_step, 1, name='inc_step')\n",
    "\n",
    "            # use to_train_vars = None to train on all trainable (including those from original)\n",
    "            to_train_vars = tf.get_collection(tf.GraphKeys.TRAINABLE_VARIABLES, \"new_convo_layer\")\n",
    "            \n",
    "            with tf.name_scope('train'):\n",
    "                decayed_rate = tf.train.exponential_decay(s.learning_rate, global_step,\n",
    "                                                          600, 0.998, True)\n",
    "                momopt = tf.train.MomentumOptimizer\n",
    "                s.train = momopt(decayed_rate, 0.9).minimize(s.loss, var_list=to_train_vars)\n",
    "            \n",
    "            # there is a prediction namescope in the original model\n",
    "            # note, that the variable assignments here are attributes of this class\n",
    "            # and refer to distinct operations compared to the original model\n",
    "            with tf.name_scope('new_prediction'):\n",
    "                s.softmax    = tf.nn.softmax(s.logits, name=\"softmax\")\n",
    "                s.prediction = tf.cast(tf.arg_max(s.softmax, 1), tf.int32)\n",
    "                \n",
    "                s.pred_correct  = tf.equal(s.labels, s.prediction)\n",
    "                s.pred_accuracy = tf.reduce_mean(tf.cast(s.pred_correct, tf.float32))    \n",
    "            \n",
    "            init = tf.global_variables_initializer()\n",
    "        s.session = tf.Session(graph=init_graph)\n",
    "        s.session.run(init)\n",
    "\n",
    "    def fit(s, train_dict):\n",
    "        tr_loss, step, tr_acc, _ = s.session.run([s.loss, s.inc_step, s.pred_accuracy, s.train], \n",
    "                                                 feed_dict=train_dict)\n",
    "        return tr_loss, step, tr_acc\n",
    "    \n",
    "    def predict(s, test_dict):\n",
    "        ct_correct, preds = s.session.run([s.pred_correct, s.prediction], \n",
    "                                          feed_dict=test_dict)\n",
    "        return ct_correct, preds   "
   ]
  },
  {
   "cell_type": "code",
   "execution_count": null,
   "metadata": {},
   "outputs": [],
   "source": [
    "new_alex = TransferedLeNet(old_lenet_graph, num_tgt_classes=10) "
   ]
  },
  {
   "cell_type": "markdown",
   "metadata": {},
   "source": [
    "# Exceries\n",
    "## (a) run this trainig and comment on the accuracy of this new training compared to the orignla one\n",
    "## (b) investigate the differences between class TransferedLeNet and the orginal code and recommend a way to improve the accuracy of the new class"
   ]
  },
  {
   "cell_type": "code",
   "execution_count": null,
   "metadata": {},
   "outputs": [],
   "source": [
    "num_examples = len(X_train)\n",
    "for epoch in range(10):\n",
    "    X_train, y_train = shuffle(X_train, y_train)\n",
    "    for offset in range(0, num_examples, BATCH_SIZE):\n",
    "        end = offset + BATCH_SIZE\n",
    "        batch_x, batch_y = X_train[offset:end], y_train[offset:end]\n",
    "        train_dict = {'inputs/images:0':batch_x, \n",
    "                      new_alex.labels : batch_y, \n",
    "                      new_alex.learning_rate : 0.01}\n",
    "        tr_loss, step, tr_acc = new_alex.fit(train_dict)\n",
    "    info_update = \"Epoch: {:2d} Step: {:5d} Loss: {:8.2f} Acc: {:5.2f} Time: {:5.2f}\"\n",
    "    print(info_update.format(epoch, step, tr_loss, tr_acc, (end - start) / 60.0))"
   ]
  }
 ],
 "metadata": {
  "kernelspec": {
   "display_name": "Python 3",
   "language": "python",
   "name": "python3"
  },
  "language_info": {
   "codemirror_mode": {
    "name": "ipython",
    "version": 3
   },
   "file_extension": ".py",
   "mimetype": "text/x-python",
   "name": "python",
   "nbconvert_exporter": "python",
   "pygments_lexer": "ipython3",
   "version": "3.6.5"
  }
 },
 "nbformat": 4,
 "nbformat_minor": 2
}
